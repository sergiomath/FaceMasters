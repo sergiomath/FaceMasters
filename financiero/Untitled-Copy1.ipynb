{
 "cells": [
  {
   "cell_type": "markdown",
   "metadata": {},
   "source": [
    "importamos los paquetes "
   ]
  },
  {
   "cell_type": "code",
   "execution_count": 1,
   "metadata": {},
   "outputs": [
    {
     "ename": "ModuleNotFoundError",
     "evalue": "No module named 'neuralintets'",
     "output_type": "error",
     "traceback": [
      "\u001b[1;31m---------------------------------------------------------------------------\u001b[0m",
      "\u001b[1;31mModuleNotFoundError\u001b[0m                       Traceback (most recent call last)",
      "\u001b[1;32m<ipython-input-1-cfd11bad8f8e>\u001b[0m in \u001b[0;36m<module>\u001b[1;34m\u001b[0m\n\u001b[1;32m----> 1\u001b[1;33m \u001b[1;32mfrom\u001b[0m \u001b[0mneuralintets\u001b[0m \u001b[1;32mimport\u001b[0m \u001b[0mGenericAssistant\u001b[0m\u001b[1;33m\u001b[0m\u001b[1;33m\u001b[0m\u001b[0m\n\u001b[0m\u001b[0;32m      2\u001b[0m \u001b[1;32mimport\u001b[0m \u001b[0mmatplotlib\u001b[0m\u001b[1;33m.\u001b[0m\u001b[0mpyplot\u001b[0m \u001b[1;32mas\u001b[0m \u001b[0mplt\u001b[0m\u001b[1;33m\u001b[0m\u001b[1;33m\u001b[0m\u001b[0m\n\u001b[0;32m      3\u001b[0m \u001b[1;32mimport\u001b[0m \u001b[0mpandas\u001b[0m \u001b[1;32mas\u001b[0m \u001b[0mpd\u001b[0m\u001b[1;33m\u001b[0m\u001b[1;33m\u001b[0m\u001b[0m\n\u001b[0;32m      4\u001b[0m \u001b[1;32mimport\u001b[0m \u001b[0mpandas_datareader\u001b[0m \u001b[1;32mas\u001b[0m \u001b[0mweb\u001b[0m\u001b[1;33m\u001b[0m\u001b[1;33m\u001b[0m\u001b[0m\n\u001b[0;32m      5\u001b[0m \u001b[1;32mimport\u001b[0m \u001b[0mmplfinance\u001b[0m \u001b[1;32mas\u001b[0m \u001b[0mmpf\u001b[0m\u001b[1;33m\u001b[0m\u001b[1;33m\u001b[0m\u001b[0m\n",
      "\u001b[1;31mModuleNotFoundError\u001b[0m: No module named 'neuralintets'"
     ]
    }
   ],
   "source": [
    "from neuralintets import GenericAssistant\n",
    "import matplotlib.pyplot as plt\n",
    "import pandas as pd\n",
    "import pandas_datareader as web \n",
    "import mplfinance as mpf\n",
    "\n",
    "import pickle\n",
    "import sys \n",
    "import datetime as dt"
   ]
  },
  {
   "cell_type": "markdown",
   "metadata": {},
   "source": [
    "funcion"
   ]
  },
  {
   "cell_type": "code",
   "execution_count": null,
   "metadata": {},
   "outputs": [],
   "source": [
    "def myfunction():\n",
    "    pass\n",
    "\n",
    "mappings = {\n",
    "     'greetings': myfunction\n",
    "}\n",
    "   \n",
    "assistant = GenericAssistant('intents.json', intent_methods=mappings)\n",
    "\n",
    "assistant.train_model()\n",
    "\n",
    "assistant.request(\"Hello\")"
   ]
  },
  {
   "cell_type": "markdown",
   "metadata": {},
   "source": [
    "intents.json"
   ]
  },
  {
   "cell_type": "code",
   "execution_count": null,
   "metadata": {},
   "outputs": [],
   "source": [
    "{\"intents\": [\n",
    "        {\"tag\": \"greeting\",\n",
    "         \"patterns\": [\"Hi there\", \"How are you\", \"Is anyone there?\",\"Hey\",\"Hola\", \"Hello\", \"Good day\"],\n",
    "         \"responses\": [\"Hello, thanks for asking\", \"Good to see you again\", \"Hi there, how can I help?\"],\n",
    "         \"context\": [\"\"]\n",
    "        },\n",
    "        {\"tag\": \"goodbye\",\n",
    "         \"patterns\": [\"Bye\", \"See you later\", \"Goodbye\", \"Nice chatting to you, bye\", \"Till next time\"],\n",
    "         \"responses\": [\"See you!\", \"Have a nice day\", \"Bye! Come back again soon.\"],\n",
    "         \"context\": [\"\"]\n",
    "        },\n",
    "        {\"tag\": \"thanks\",\n",
    "         \"patterns\": [\"Thanks\", \"Thank you\", \"That's helpful\", \"Awesome, thanks\", \"Thanks for helping me\"],\n",
    "         \"responses\": [\"Happy to help!\", \"Any time!\", \"My pleasure\"],\n",
    "         \"context\": [\"\"]\n",
    "        },\n",
    "        {\"tag\": \"noanswer\",\n",
    "         \"patterns\": [],\n",
    "         \"responses\": [\"Sorry, can't understand you\", \"Please give me more info\", \"Not sure I understand\"],\n",
    "         \"context\": [\"\"]\n",
    "        },\n",
    "        {\"tag\": \"options\",\n",
    "         \"patterns\": [\"How you could help me?\", \"What you can do?\", \"What help you provide?\", \"How you can be helpful?\", \"What support is offered\"],\n",
    "         \"responses\": [\"I can guide you through Adverse drug reaction list, Blood pressure tracking, Hospitals and Pharmacies\", \"Offering support for Adverse drug reaction, Blood pressure, Hospitals and Pharmacies\"],\n",
    "         \"context\": [\"\"]\n",
    "        },\n",
    "        {\"tag\": \"adverse_drug\",\n",
    "         \"patterns\": [\"How to check Adverse drug reaction?\", \"Open adverse drugs module\", \"Give me a list of drugs causing adverse behavior\", \"List all drugs suitable for patient with adverse reaction\", \"Which drugs dont have adverse reaction?\" ],\n",
    "         \"responses\": [\"Navigating to Adverse drug reaction module\"],\n",
    "         \"context\": [\"\"]\n",
    "        },\n",
    "        {\"tag\": \"blood_pressure\",\n",
    "         \"patterns\": [\"Open blood pressure module\", \"Task related to blood pressure\", \"Blood pressure data entry\", \"I want to log blood pressure results\", \"Blood pressure data management\" ],\n",
    "         \"responses\": [\"Navigating to Blood Pressure module\"],\n",
    "         \"context\": [\"\"]\n",
    "        },\n",
    "        {\"tag\": \"blood_pressure_search\",\n",
    "         \"patterns\": [\"I want to search for blood pressure result history\", \"Blood pressure for patient\", \"Load patient blood pressure result\", \"Show blood pressure results for patient\", \"Find blood pressure results by ID\" ],\n",
    "         \"responses\": [\"Please provide Patient ID\", \"Patient ID?\"],\n",
    "         \"context\": [\"search_blood_pressure_by_patient_id\"]\n",
    "        },\n",
    "        {\"tag\": \"search_blood_pressure_by_patient_id\",\n",
    "         \"patterns\": [],\n",
    "         \"responses\": [\"Loading Blood pressure result for Patient\"],\n",
    "         \"context\": [\"\"]\n",
    "        },\n",
    "        {\"tag\": \"pharmacy_search\",\n",
    "         \"patterns\": [\"Find me a pharmacy\", \"Find pharmacy\", \"List of pharmacies nearby\", \"Locate pharmacy\", \"Search pharmacy\" ],\n",
    "         \"responses\": [\"Please provide pharmacy name\"],\n",
    "         \"context\": [\"search_pharmacy_by_name\"]\n",
    "        },\n",
    "        {\"tag\": \"search_pharmacy_by_name\",\n",
    "         \"patterns\": [],\n",
    "         \"responses\": [\"Loading pharmacy details\"],\n",
    "         \"context\": [\"\"]\n",
    "        },\n",
    "        {\"tag\": \"hospital_search\",\n",
    "         \"patterns\": [\"Lookup for hospital\", \"Searching for hospital to transfer patient\", \"I want to search hospital data\", \"Hospital lookup for patient\", \"Looking up hospital details\" ],\n",
    "         \"responses\": [\"Please provide hospital name or location\"],\n",
    "         \"context\": [\"search_hospital_by_params\"]\n",
    "        },\n",
    "        {\"tag\": \"search_hospital_by_params\",\n",
    "         \"patterns\": [],\n",
    "         \"responses\": [\"Please provide hospital type\"],\n",
    "         \"context\": [\"search_hospital_by_type\"]\n",
    "        },\n",
    "        {\"tag\": \"search_hospital_by_type\",\n",
    "         \"patterns\": [],\n",
    "         \"responses\": [\"Loading hospital details\"],\n",
    "         \"context\": [\"\"]\n",
    "        }\n",
    "   ]\n",
    "}\n"
   ]
  },
  {
   "cell_type": "markdown",
   "metadata": {},
   "source": [
    "portfolio"
   ]
  },
  {
   "cell_type": "code",
   "execution_count": null,
   "metadata": {},
   "outputs": [],
   "source": [
    "portfolio = {'AAPL': 20, 'TSLA': 5, \"GS\": 10}\n",
    "\n"
   ]
  },
  {
   "cell_type": "code",
   "execution_count": null,
   "metadata": {},
   "outputs": [],
   "source": [
    "with open('portfolio.pkl', 'rb') as f:\n",
    "    portfolio= pickle.load(f)"
   ]
  },
  {
   "cell_type": "code",
   "execution_count": null,
   "metadata": {},
   "outputs": [],
   "source": [
    "print(portfolio) "
   ]
  },
  {
   "cell_type": "code",
   "execution_count": null,
   "metadata": {},
   "outputs": [],
   "source": [
    "def save_portfolio():\n",
    "    with open('portfolio.pkl', 'wb') as f:\n",
    "    pickle.dump(portfolio, f)"
   ]
  },
  {
   "cell_type": "code",
   "execution_count": null,
   "metadata": {},
   "outputs": [],
   "source": [
    "def add_portfolio():\n",
    "    ticker = input (\"which stock do toy want to add: \")\n",
    "    amount = input (\"how many shares do toy want to add: \")\n",
    "    \n",
    "    if ticket in portfolio.keys():\n",
    "        portfolio[ticker] += int(amount)\n",
    "    else:\n",
    "        portfolio[ticker] = int(amount)\n",
    "        \n",
    "    save_portfolio()        \n",
    "    "
   ]
  },
  {
   "cell_type": "code",
   "execution_count": null,
   "metadata": {},
   "outputs": [],
   "source": [
    "def remove_portfolio():\n",
    "    ticker = input (\"which stock do toy want to sell: \")\n",
    "    amount = input (\"how many shares do toy want to sell: \")\n",
    "    \n",
    "     if ticket in portfolio.keys():\n",
    "        if amount <= portfolio[ticker]:\n",
    "            portfolio[ticker] -= int(amount)\n",
    "            save_portfolio()\n",
    "        else:\n",
    "            print (\"you don't have enough shares\")\n",
    "    else :\n",
    "        print (f\"you don't own any shares of {ticker}\")\n"
   ]
  },
  {
   "cell_type": "code",
   "execution_count": null,
   "metadata": {},
   "outputs": [],
   "source": []
  },
  {
   "cell_type": "code",
   "execution_count": null,
   "metadata": {},
   "outputs": [],
   "source": [
    "def show_portfolio():\n",
    "    print (\"your portfolio:\")\n",
    "    for ticker in portfolio.keys():\n",
    "        print (f\"you own {portfolio[ticker]} shares of {ticker}\")"
   ]
  },
  {
   "cell_type": "code",
   "execution_count": null,
   "metadata": {},
   "outputs": [],
   "source": [
    "def portfolio_worth():\n",
    "    sum = 0\n",
    "    for ticker in portfolio.keys():\n",
    "        data = web.DataReader(ticker,'yahoo')\n",
    "        price = data ['Close'].iloc[-1]\n",
    "        sum +=price\n",
    "    print(f\"your portfolio is worth {sum} USD\")"
   ]
  },
  {
   "cell_type": "code",
   "execution_count": null,
   "metadata": {},
   "outputs": [],
   "source": [
    "def portfolio_gains():\n",
    "    starting_date = input(\"enter a date for comparison (yyyy-mm-dd):\")\n",
    "    \n",
    "    sum_now = 0\n",
    "    sum_then = 0\n",
    "    \n",
    "    try:\n",
    "        for ticker in portfolio.keys():\n",
    "            data= web.DataReader(ticker,'yahoo')\n",
    "            price_now = data['close'].iloc[-1]\n",
    "            pirce_then = data.loc[data.index == starting_date]['close'].values[0]\n",
    "            sum_now += price_now\n",
    "            sum_then += price_then\n",
    "            \n",
    "        print(f\"relative gains: {((sum_now-sum_then)/sum_then)*100}%\")\n",
    "        print(f\"absolute gains: {sum_now-sum_then}USD\")\n",
    "    except IndexError:_\n",
    "        print(\"there was no trading on this day!\")"
   ]
  },
  {
   "cell_type": "code",
   "execution_count": null,
   "metadata": {},
   "outputs": [],
   "source": [
    "def plot_chart():\n",
    "    ticker = input (\"choose a ticker symbol: \")\n",
    "    starting_string = input(\"choose a starting date(yyyy-mm-dd):\")\n",
    "    \n",
    "    plt.style.use('dark_background')\n",
    "    \n",
    "    start = dt.datetime.strptime(starting_string. \"%d/%m/%Y\")\n",
    "    end = dt.datetime.now()\n",
    "    \n",
    "    data = web.DataReader(ticket, 'yahoo', start, end)\n",
    "    \n",
    "    colors = mpf.make_marketcolors(up='#00ff00', down='#ff0000', wick='inherit', edge='inherit',volume='in')\n",
    "    mpf_style = mpf.make_mpf_style(base_mpf_style='nightclouds',marketcolors=colors)\n",
    "    mpf.plot(data, type='candle', style=mpf_style, volume=True)"
   ]
  },
  {
   "cell_type": "code",
   "execution_count": null,
   "metadata": {},
   "outputs": [],
   "source": [
    "def bye ():\n",
    "    print (\"goodbye\")\n",
    "    sys.exit(0)"
   ]
  },
  {
   "cell_type": "code",
   "execution_count": null,
   "metadata": {},
   "outputs": [],
   "source": []
  },
  {
   "cell_type": "code",
   "execution_count": null,
   "metadata": {},
   "outputs": [],
   "source": [
    "mappings= {\n",
    "    'plot_chart': plot_chart,\n",
    "    'add_portfolio': add_portfolio,\n",
    "    'remove_portfolio': remove_portfolio,\n",
    "    'show_portfolio': show_portfolio,\n",
    "    'portfolio_worth': portfolio_worth,\n",
    "    'portfolio_gains': portfolio_gains,\n",
    "    'bye': bye\n",
    "    \n",
    "}\n",
    "\n",
    "\n",
    "assistant = GenericAssistant('intents.json',mappings,\"financial_assistant_model\")\n",
    "assistant.train_model()\n",
    "assistant.save_model()\n",
    "\n",
    "while True:\n",
    "    message = input (\"\")\n",
    "    assistant.request(message)\n",
    "    "
   ]
  },
  {
   "cell_type": "code",
   "execution_count": null,
   "metadata": {},
   "outputs": [],
   "source": [
    "mappings= {\n",
    "    'plot_chart': plot_chart,\n",
    "    'add_portfolio': add_portfolio,\n",
    "    'remove_portfolio': remove_portfolio,\n",
    "    'show_portfolio': show_portfolio,\n",
    "    'portfolio_worth': portfolio_worth,\n",
    "    'portfolio_gains': portfolio_gains,\n",
    "    'bye': bye\n",
    "    \n",
    "}\n",
    "\n",
    "\n",
    "assistant = GenericAssistant('intents.json',mappings,\"financial_assistant_model\")\n",
    "\n",
    "assistant.load_model()\n",
    "\n",
    "while True:\n",
    "    message = input (\"\")\n",
    "    assistant.request(message)"
   ]
  }
 ],
 "metadata": {
  "kernelspec": {
   "display_name": "Python 3",
   "language": "python",
   "name": "python3"
  },
  "language_info": {
   "codemirror_mode": {
    "name": "ipython",
    "version": 3
   },
   "file_extension": ".py",
   "mimetype": "text/x-python",
   "name": "python",
   "nbconvert_exporter": "python",
   "pygments_lexer": "ipython3",
   "version": "3.8.5"
  }
 },
 "nbformat": 4,
 "nbformat_minor": 4
}
