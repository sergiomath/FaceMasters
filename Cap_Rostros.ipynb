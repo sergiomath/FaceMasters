{
 "cells": [
  {
   "cell_type": "markdown",
   "metadata": {},
   "source": [
    "<font size=\"7\" color=\"blue\"><center> **Identificación de Rostros con OpenCV** </center></font>\n",
    "<font size=\"5\" ><center> **Deivid Alejandro Coronado Sarmiento** </center></font>\n",
    "<font size=\"5\" ><center> **Sergio Andres Diaz Vera** </center></font>\n",
    "<font size=\"5\" ><center> **Miguel Angel Robayo Bernal** </center></font>"
   ]
  },
  {
   "cell_type": "markdown",
   "metadata": {},
   "source": [
    "<font size=\"4\" color=\"blue\">**¿Qué es la detección de rostros?**</font>"
   ]
  },
  {
   "cell_type": "markdown",
   "metadata": {},
   "source": [
    "\n",
    "Un sistema de detección facial está diseñado para responder a esta pregunta: ¿hay un rostro esta imagen? Un sistema de detección facial determina la presencia, la ubicación, la escala y (posiblemente) la orientación de cualquier rostro presente en una fotografía o en un fotograma de vídeo. \n"
   ]
  },
  {
   "cell_type": "markdown",
   "metadata": {},
   "source": [
    "\n",
    "El sistemas de detección puede ofrecer una estimación aproximada del nivel de confianza de la predicción en forma de probabilidad o puntuación de confianza. Si un sistema de detección facial no detecta correctamente un rostro, o proporciona una predicción con un nivel de confianza bajo respecto a un rostro real, esto se denomina una detección omitida o un falso negativo. Si un sistema de detección facial predice de forma incorrecta la presencia de un rostro con un alto nivel de confianza, se trata de una falsa alarma o de un falso positivo.\n"
   ]
  },
  {
   "cell_type": "markdown",
   "metadata": {},
   "source": [
    "[Amazon: Información general de detección y comparación de rostros](https://docs.aws.amazon.com/es_es/rekognition/latest/dg/rekognition-dg.pdf#face-feature-differences)"
   ]
  },
  {
   "cell_type": "markdown",
   "metadata": {},
   "source": [
    "<font size=\"4\" color=\"blue\">**Captura de Rostros por Imagenes**</font>"
   ]
  },
  {
   "cell_type": "markdown",
   "metadata": {},
   "source": [
    "Importamos y leemos las librerias necesarias."
   ]
  },
  {
   "cell_type": "code",
   "execution_count": 2,
   "metadata": {},
   "outputs": [],
   "source": [
    "import cv2 ##libreria usada para el manejo de imagenens y deteccion de rostros \n",
    "import os ## Libreria usada para controlar carpetas"
   ]
  },
  {
   "cell_type": "markdown",
   "metadata": {},
   "source": [
    "Seleccionamos el directorio de trabajo donde se va a guardar nuestra informacion."
   ]
  },
  {
   "cell_type": "code",
   "execution_count": null,
   "metadata": {},
   "outputs": [],
   "source": [
    "imagesPath = \"C:/Users/Alejandro/Desktop/Mineria/Proyecto/GitHub/FaceMasters/Imagenes\"\n",
    "imagesPathList = os.listdir(imagesPath)"
   ]
  },
  {
   "cell_type": "markdown",
   "metadata": {},
   "source": [
    "Seleccionamos el directorio donde se van a guardar los rostros del video que seran usados para el entrenamiento del sistema, si el directorio no existe, lo creamos con la siguiente instruccion."
   ]
  },
  {
   "cell_type": "code",
   "execution_count": null,
   "metadata": {},
   "outputs": [],
   "source": [
    "if not os.path.exists('Rostros Imagenes'):\n",
    "    print('Carpeta creada: Rostros Imagenes')\n",
    "    os.makedirs('Rostros Imagenes')"
   ]
  },
  {
   "cell_type": "markdown",
   "metadata": {},
   "source": [
    "El cuerpo del programa"
   ]
  },
  {
   "cell_type": "code",
   "execution_count": null,
   "metadata": {},
   "outputs": [],
   "source": [
    "faceClassif = cv2.CascadeClassifier(cv2.data.haarcascades+'haarcascade_frontalface_default.xml')\n",
    "count = 0\n",
    "for imageName in imagesPathList:\n",
    "    image = cv2.imread(imagesPath+'/'+imageName)\n",
    "    imageAux = image.copy()\n",
    "    gray = cv2.cvtColor(image, cv2.COLOR_BGR2GRAY)\n",
    "    faces = faceClassif.detectMultiScale(gray, 1.1, 5)\n",
    "    for (x,y,w,h) in faces:\n",
    "        cv2.rectangle(image, (x,y),(x+w,y+h),(128,0,255),2)\n",
    "    cv2.imshow('image',image)\n",
    "    k = cv2.waitKey(0)\n",
    "    if  k == ord('s'):\n",
    "        for (x,y,w,h) in faces:\n",
    "            rostro = imageAux[y:y+h,x:x+w]\n",
    "            rostro = cv2.resize(rostro,(150,150), interpolation=cv2.INTER_CUBIC)\n",
    "            cv2.imwrite('Rostros Imagenes/rostro_{}.jpg'.format(count),rostro)\n",
    "            count = count +1\n",
    "    elif k == 27:\n",
    "        break\n",
    "cv2.destroyAllWindows()"
   ]
  },
  {
   "cell_type": "markdown",
   "metadata": {},
   "source": [
    "<font size=\"4\" color=\"blue\">**Captura Rostros de un Video o Stream**</font>"
   ]
  },
  {
   "cell_type": "markdown",
   "metadata": {},
   "source": [
    "Importamos y leemos las librerias necesarias."
   ]
  },
  {
   "cell_type": "code",
   "execution_count": 4,
   "metadata": {},
   "outputs": [],
   "source": [
    "import cv2\n",
    "import os"
   ]
  },
  {
   "cell_type": "markdown",
   "metadata": {},
   "source": [
    "Seleccionamos el directorio de trabajo donde se va a guardar nuestra informacion."
   ]
  },
  {
   "cell_type": "code",
   "execution_count": null,
   "metadata": {},
   "outputs": [],
   "source": [
    "cap = cv2.VideoCapture('C:/Users/Alejandro/Desktop/Mineria/Proyecto/Video/video.mp4')"
   ]
  },
  {
   "cell_type": "markdown",
   "metadata": {},
   "source": [
    "Seleccionamos el directorio donde se van a guardar los rostros del video que seran usados para el entrenamiento del sistema, si el directorio no existe, lo creamos con la siguiente instruccion."
   ]
  },
  {
   "cell_type": "code",
   "execution_count": null,
   "metadata": {},
   "outputs": [],
   "source": [
    "if not os.path.exists('Rostros Video'):\n",
    "    print('Carpeta creada: Rostros Video')\n",
    "    os.makedirs('Rostros Video')"
   ]
  },
  {
   "cell_type": "markdown",
   "metadata": {},
   "source": [
    "El cuerpo del programa."
   ]
  },
  {
   "cell_type": "code",
   "execution_count": null,
   "metadata": {},
   "outputs": [],
   "source": [
    "faceClassif = cv2.CascadeClassifier(cv2.data.haarcascades+'haarcascade_frontalface_default.xml')\n",
    "count = 0\n",
    "while True:\n",
    "    ret,frame = cap.read()\n",
    "    frame = cv2.flip(frame,1)\n",
    "    gray = cv2.cvtColor(frame, cv2.COLOR_BGR2GRAY)\n",
    "    auxFrame = frame.copy()\n",
    "    faces = faceClassif.detectMultiScale(gray, 1.3, 5)\n",
    "    k = cv2.waitKey(1)\n",
    "    if k == 27:\n",
    "        break\n",
    "    for (x,y,w,h) in faces:\n",
    "        rostro = auxFrame[y:y+h,x:x+w]\n",
    "        rostro = cv2.resize(rostro,(150,150), interpolation=cv2.INTER_CUBIC)\n",
    "        if k == ord('s'):\n",
    "            cv2.imwrite('Rostros Video/rostro_{}.jpg'.format(count),rostro)\n",
    "            cv2.imshow('rostro',rostro)\n",
    "            count = count +1\n",
    "    cv2.rectangle(frame,(10,5),(450,25),(255,255,255),-1)\n",
    "    cv2.imshow('frame',frame)\n",
    "cap.release()\n",
    "cv2.destroyAllWindows()"
   ]
  },
  {
   "cell_type": "markdown",
   "metadata": {},
   "source": [
    "<font size=\"4\" color=\"blue\">**Cadena**</font>"
   ]
  },
  {
   "cell_type": "markdown",
   "metadata": {},
   "source": [
    "Importamos y leemos las librerias necesarias."
   ]
  },
  {
   "cell_type": "code",
   "execution_count": 9,
   "metadata": {},
   "outputs": [],
   "source": [
    "import cv2\n",
    "import os\n",
    "import imutils"
   ]
  },
  {
   "cell_type": "markdown",
   "metadata": {},
   "source": [
    "Seleccionamos el directorio de trabajo donde se va a guardar nuestra informacion."
   ]
  },
  {
   "cell_type": "code",
   "execution_count": null,
   "metadata": {},
   "outputs": [],
   "source": [
    "cap = cv2.VideoCapture('C:/Users/Alejandro/Desktop/Mineria/Proyecto/Video/video.mp4')\n",
    "dataPath = 'C:/Users/Alejandro/Desktop/Mineria/Proyecto'#Cambia a la ruta donde hayas almacenado Data"
   ]
  },
  {
   "cell_type": "markdown",
   "metadata": {},
   "source": [
    "Seleccionamos el directorio donde se van a guardar los rostros del video que seran usados para el entrenamiento del sistema, si el directorio no existe, lo creamos con la siguiente instruccion."
   ]
  },
  {
   "cell_type": "code",
   "execution_count": null,
   "metadata": {},
   "outputs": [],
   "source": [
    "personName = 'Dolly'\n",
    "personPath = dataPath + '/' + personName\n",
    "if not os.path.exists(personPath):\n",
    "    print('Carpeta creada: ',personPath)\n",
    "    os.makedirs(personPath)"
   ]
  },
  {
   "cell_type": "markdown",
   "metadata": {},
   "source": [
    "El cuerpo del programa."
   ]
  },
  {
   "cell_type": "code",
   "execution_count": null,
   "metadata": {},
   "outputs": [],
   "source": [
    "faceClassif = cv2.CascadeClassifier(cv2.data.haarcascades+'haarcascade_frontalface_default.xml')\n",
    "count = 0\n",
    "while True:\n",
    "    \n",
    "    ret, frame = cap.read()\n",
    "    if ret == False: break\n",
    "    frame =  imutils.resize(frame, width=640)\n",
    "    gray = cv2.cvtColor(frame, cv2.COLOR_BGR2GRAY)\n",
    "    auxFrame = frame.copy()\n",
    "    faces = faceClassif.detectMultiScale(gray,1.3,5)\n",
    "    for (x,y,w,h) in faces:\n",
    "        cv2.rectangle(frame, (x,y),(x+w,y+h),(0,255,0),2)\n",
    "        rostro = auxFrame[y:y+h,x:x+w]\n",
    "        rostro = cv2.resize(rostro,(150,150),interpolation=cv2.INTER_CUBIC)\n",
    "        cv2.imwrite(personPath + '/rotro_{}.jpg'.format(count),rostro)\n",
    "        count = count + 1\n",
    "    cv2.imshow('frame',frame)\n",
    "    k =  cv2.waitKey(1)\n",
    "    if k == 27 or count >= 1000:\n",
    "        break\n",
    "cap.release()\n",
    "cv2.destroyAllWindows()"
   ]
  }
 ],
 "metadata": {
  "kernelspec": {
   "display_name": "Python 3",
   "language": "python",
   "name": "python3"
  },
  "language_info": {
   "codemirror_mode": {
    "name": "ipython",
    "version": 3
   },
   "file_extension": ".py",
   "mimetype": "text/x-python",
   "name": "python",
   "nbconvert_exporter": "python",
   "pygments_lexer": "ipython3",
   "version": "3.8.5"
  }
 },
 "nbformat": 4,
 "nbformat_minor": 4
}
